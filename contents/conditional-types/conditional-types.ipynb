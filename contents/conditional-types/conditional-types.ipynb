{
 "cells": [
  {
   "attachments": {},
   "cell_type": "markdown",
   "metadata": {},
   "source": [
    "# Conditional Types\n",
    "\n",
    "Reference \n",
    "- [typescriptlang.org/docs/handbook/release-notes/typescript-2-8.html#conditional-types](https://www.typescriptlang.org/docs/handbook/release-notes/typescript-2-8.html#conditional-types)\n",
    "- [typescriptlang.org/docs/handbook/2/conditional-types.html#inferring-within-conditional-types](https://www.typescriptlang.org/docs/handbook/2/conditional-types.html#inferring-within-conditional-types)\n",
    "\n",
    "A conditional type selects one of two possible types based on a condition expressed as a type relationship test:\n",
    "\n",
    "```Typescript\n",
    "type ResultType<T, U> = T extends U ? X : Y\n",
    "```\n",
    "\n",
    "The above means if `T` is assignable to `U`, the type of `ResultType` is `X`, otherwise it is `Y`."
   ]
  },
  {
   "cell_type": "code",
   "execution_count": 1,
   "metadata": {},
   "outputs": [],
   "source": [
    "{\n",
    "    type Pet = 'cat' | 'dog' | 'turtle'\n",
    "    type IsMyPet<T, U> = T extends U ? true : false\n",
    "\n",
    "    type MyPet1 = IsMyPet<'cat', Pet> // true\n",
    "    type MyPet2 = IsMyPet<'parrot', Pet> // false\n",
    "}"
   ]
  }
 ],
 "metadata": {
  "kernelspec": {
   "display_name": "TypeScript",
   "language": "typescript",
   "name": "tslab"
  },
  "language_info": {
   "codemirror_mode": {
    "mode": "typescript",
    "name": "javascript",
    "typescript": true
   },
   "file_extension": ".ts",
   "mimetype": "text/typescript",
   "name": "typescript",
   "version": "3.7.2"
  },
  "orig_nbformat": 4
 },
 "nbformat": 4,
 "nbformat_minor": 2
}
