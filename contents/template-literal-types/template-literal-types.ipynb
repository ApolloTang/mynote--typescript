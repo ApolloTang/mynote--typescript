{
 "cells": [
  {
   "attachments": {},
   "cell_type": "markdown",
   "metadata": {},
   "source": [
    "# Template Literal Types Reference\n",
    "\n",
    "[ApolloTang/awesome-template-literal-types (fork)](https://github.com/ApolloTang/awesome-template-literal-types)\n",
    "\n",
    "https://www.typescriptlang.org/docs/handbook/2/template-literal-types.html\n",
    "\n",
    "https://michalzalecki.com/typescript-template-literal-types/\n",
    "\n",
    "https://www.google.com/search?q=template+literal+types&oq=Template+Literal+Types&aqs=chrome.0.0i512l3j0i20i263i512j0i22i30l3j69i60.1266j0j7&sourceid=chrome&ie=UTF-8\n",
    "\n",
    "\n",
    "Also on my computer: search \"typescript--template-literal-type\""
   ]
  },
  {
   "cell_type": "markdown",
   "metadata": {},
   "source": []
  }
 ],
 "metadata": {
  "kernelspec": {
   "display_name": "TypeScript",
   "language": "typescript",
   "name": "tslab"
  },
  "language_info": {
   "name": "typescript"
  },
  "orig_nbformat": 4
 },
 "nbformat": 4,
 "nbformat_minor": 2
}
