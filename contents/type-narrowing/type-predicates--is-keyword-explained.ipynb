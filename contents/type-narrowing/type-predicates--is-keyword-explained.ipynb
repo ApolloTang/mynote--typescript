{
 "cells": [
  {
   "cell_type": "markdown",
   "id": "1e07966b",
   "metadata": {},
   "source": [
    "# Type predicates (`is` keyword explained)\n",
    "\n",
    "References:\n",
    "\n",
    "[https://stackoverflow.com/questions/40081332/what-does-the-is-keyword-do-in-typescript](https://stackoverflow.com/questions/40081332/what-does-the-is-keyword-do-in-typescript)\n",
    "\n",
    "[https://www.typescriptlang.org/docs/handbook/2/narrowing.html#using-type-predicates](https://www.typescriptlang.org/docs/handbook/2/narrowing.html#using-type-predicates)\n",
    "\n",
    "Lets consider the following piece of code:"
   ]
  },
  {
   "cell_type": "code",
   "execution_count": 1,
   "id": "e2a721c8",
   "metadata": {},
   "outputs": [
    {
     "name": "stdout",
     "output_type": "stream",
     "text": [
      "the argument is cat type\n"
     ]
    }
   ],
   "source": [
    ";(()=>{\n",
    "  type Pet = 'cat' | 'dog' | 'turtle'\n",
    "\n",
    "  function isCatType(test:Pet): boolean {\n",
    "    return test === 'cat' \n",
    "  } \n",
    "\n",
    "  const example = (arg: Pet):void => {\n",
    "    if (isCatType(arg)) {\n",
    "      type typeOfArg = typeof arg // Pet \n",
    "      console.log('the argument is cat type')\n",
    "    } else {\n",
    "      type typeOfArg = typeof arg // Pet \n",
    "      console.log('the argument is not cat type')\n",
    "    }\n",
    "  }\n",
    "\n",
    "  example('cat')\n",
    "})()"
   ]
  },
  {
   "cell_type": "markdown",
   "id": "67c2b976",
   "metadata": {},
   "source": [
    "Inside the function `example()`, runtime control flow is used to achieved type norrowing from `Pet` to `cat`. The mechanism relies on the **runtime** return value of `isCatType()`. During compile time, the compiler is unware and unable to keep track of the type norrowing:\n",
    "\n",
    "```typescript\n",
    "if (isCatType(arg)) {\n",
    "  type typeOfArg = typeof arg // type is \"Pat\", but it should be type \"cat\" here\n",
    "} else {\n",
    "  type typeOfArg = typeof arg // type is \"Pat\", but it should be type \"dog | turtle\" here \n",
    "}\n",
    "```\n",
    "However, if we change the return type of `isCatType` from `boolean`: \n",
    "\n",
    "```typescript\n",
    "function isCatType(test:Pet): boolean\n",
    "```\n",
    "\n",
    "to preddicates:\n",
    "```typescript\n",
    "function isCatType(test:Pet): test is 'cat'\n",
    "```\n",
    "Compile time type narrowing is acheived:"
   ]
  },
  {
   "cell_type": "code",
   "execution_count": 2,
   "id": "05226e57",
   "metadata": {},
   "outputs": [
    {
     "name": "stdout",
     "output_type": "stream",
     "text": [
      "the argument is cat type\n"
     ]
    }
   ],
   "source": [
    ";(()=>{\n",
    "  type Pet = 'cat' | 'dog' | 'turtle'\n",
    "\n",
    "  function isCatType(test:Pet): test is 'cat' {  // <-- note that return type is a predicate\n",
    "    return test === 'cat' \n",
    "  } \n",
    "\n",
    "  const example = (arg: Pet):void => {\n",
    "    if (isCatType(arg)) {\n",
    "      type typeOfArg = typeof arg // \"cat\"\n",
    "      console.log('the argument is cat type')\n",
    "    } else {\n",
    "      type typeOfArg = typeof arg // \"dog\" | \"turtle\"\n",
    "      console.log('the argument is not cat type')\n",
    "    }\n",
    "  }\n",
    "\n",
    "  example('cat')\n",
    "})()"
   ]
  },
  {
   "cell_type": "markdown",
   "id": "350b702e",
   "metadata": {},
   "source": [
    "In the above, you see that within the control flow, Compiler is keeping tracks of the type. The respecttive type narrowing has achieved:\n",
    "\n",
    "```typescript\n",
    "if (isCatType(arg)) {\n",
    "  type typeOfArg = typeof arg // type is \"cat\" here\n",
    "} else {\n",
    "  type typeOfArg = typeof arg // type is \"dog | turtle\" here \n",
    "}\n",
    "```\n",
    " "
   ]
  }
 ],
 "metadata": {
  "kernelspec": {
   "display_name": "TypeScript",
   "language": "typescript",
   "name": "tslab"
  },
  "language_info": {
   "codemirror_mode": {
    "mode": "typescript",
    "name": "javascript",
    "typescript": true
   },
   "file_extension": ".ts",
   "mimetype": "text/typescript",
   "name": "typescript",
   "version": "3.7.2"
  }
 },
 "nbformat": 4,
 "nbformat_minor": 5
}
