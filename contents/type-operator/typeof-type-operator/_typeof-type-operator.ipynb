{
 "cells": [
  {
   "cell_type": "markdown",
   "metadata": {},
   "source": [
    "# Typeof type operator\n",
    "\n",
    "\n",
    "## Official reference: \n",
    "\n",
    "[handbook: Typeof Type Operator](https://www.typescriptlang.org/docs/handbook/2/typeof-types.html#handbook-content)\n",
    "\n",
    "[handbook: typeof-type-guards](https://www.typescriptlang.org/docs/handbook/2/narrowing.html#typeof-type-guards)\n",
    "\n",
    "[handbook: Creating Types from Types](https://www.typescriptlang.org/docs/handbook/2/types-from-types.html#handbook-content)\n",
    "\n",
    "\n",
    "## Article:\n",
    "\n",
    "[Medium: Manipulation Continues with TypeScript’s Type Operators](https://blog.bitsrc.io/manipulation-continues-with-typescripts-type-operators-fb07ad31a9b9)"
   ]
  }
 ],
 "metadata": {
  "kernelspec": {
   "display_name": "TypeScript",
   "language": "typescript",
   "name": "tslab"
  },
  "language_info": {
   "name": "typescript"
  },
  "orig_nbformat": 4
 },
 "nbformat": 4,
 "nbformat_minor": 2
}
