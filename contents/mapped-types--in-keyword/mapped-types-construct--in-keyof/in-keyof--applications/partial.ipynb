{
 "cells": [
  {
   "attachments": {},
   "cell_type": "markdown",
   "metadata": {},
   "source": [
    "# Partial\\<Type>\n",
    "\n",
    "The typescript utility type `Partial<Type>` constructed a new type from a given object-type where all properties of the given object-type is transformed from mandatory to optional. Thus, this utility is the complement of `Required<Type>`."
   ]
  },
  {
   "cell_type": "code",
   "execution_count": 2,
   "metadata": {},
   "outputs": [
    {
     "name": "stderr",
     "output_type": "stream",
     "text": [
      "7:11 - Property 'balance' is missing in type '{ name: string; }' but required in type 'Account'.\n"
     ]
    }
   ],
   "source": [
    "{\n",
    "    interface Account {\n",
    "        name: string;\n",
    "        balance: number;\n",
    "    }\n",
    "\n",
    "    const account1:Account = { \n",
    "        name: 'foo',\n",
    "        // balance: 100,  // <-- not okay, all property is mandatory. \n",
    "    }\n",
    "    // TypeError: \n",
    "    // Property 'balance' is missing in type '{ name: string; }' but required in type 'Account'.ts(2741)\n",
    "\n",
    "    type PartialAccount = Partial<Account>\n",
    "    const account2:PartialAccount = {\n",
    "        name: 'foo',\n",
    "        // balance: 100,  // <-- absence of `balance` is okay, b/c this property is optional.\n",
    "    }\n",
    "}"
   ]
  },
  {
   "attachments": {},
   "cell_type": "markdown",
   "metadata": {},
   "source": [
    "Under the hood, the `Partial` utility is a mapped-type:\n",
    "\n",
    "```typescript\n",
    "type MyPartial<Type> = { \n",
    "    [key in keyof Type]?: Type[key] \n",
    "}\n",
    "```"
   ]
  },
  {
   "cell_type": "code",
   "execution_count": 1,
   "metadata": {},
   "outputs": [
    {
     "name": "stderr",
     "output_type": "stream",
     "text": [
      "11:11 - Property 'balance' is missing in type '{ name: string; }' but required in type 'Account'.\n"
     ]
    }
   ],
   "source": [
    "{\n",
    "    type MyPartial<Type> = { \n",
    "        [key in keyof Type]?: Type[key] \n",
    "    }\n",
    "\n",
    "    interface Account {\n",
    "        name: string;\n",
    "        balance: number;\n",
    "    }\n",
    "\n",
    "    const account1:Account = { \n",
    "        name: 'foo',\n",
    "        // balance: 100,  // <-- not okay, all property is mandatory. \n",
    "    }\n",
    "    // TypeError: \n",
    "    // Property 'balance' is missing in type '{ name: string; }' but required in type 'Account'.ts(2741)\n",
    "\n",
    "    type PartialAccount = MyPartial<Account>\n",
    "    const account2:PartialAccount = {\n",
    "        name: 'foo',\n",
    "        // balance: 100,  // <-- absence of `balance` is okay, b/c this property is optional.\n",
    "    }\n",
    "}"
   ]
  },
  {
   "attachments": {},
   "cell_type": "markdown",
   "metadata": {},
   "source": [
    "Reference: \n",
    "\n",
    "- [Mapped types in TypeScript by Wojciech Trawiński](https://medium.com/javascript-everyday/mapped-types-in-typescript-6be8a0dd532c)\n",
    "\n",
    "- [typescriptlang.org/docs/handbook/utility-types.html#partialtype](https://www.typescriptlang.org/docs/handbook/utility-types.html#partialtype)\n",
    "\n",
    "- [https://www.becomebetterprogrammer.com/typescript-partial-type/](https://www.becomebetterprogrammer.com/typescript-partial-type/)"
   ]
  }
 ],
 "metadata": {
  "kernelspec": {
   "display_name": "TypeScript",
   "language": "typescript",
   "name": "tslab"
  },
  "language_info": {
   "codemirror_mode": {
    "mode": "typescript",
    "name": "javascript",
    "typescript": true
   },
   "file_extension": ".ts",
   "mimetype": "text/typescript",
   "name": "typescript",
   "version": "3.7.2"
  },
  "orig_nbformat": 4
 },
 "nbformat": 4,
 "nbformat_minor": 2
}
