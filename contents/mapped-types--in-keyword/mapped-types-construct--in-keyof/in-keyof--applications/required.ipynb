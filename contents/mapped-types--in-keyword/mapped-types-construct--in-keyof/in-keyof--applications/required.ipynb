{
 "cells": [
  {
   "cell_type": "markdown",
   "metadata": {},
   "source": []
  },
  {
   "attachments": {},
   "cell_type": "markdown",
   "metadata": {},
   "source": [
    "# Required\\<Type\\>\n",
    "\n",
    "The typescript utility type `Required<Type>` constructed a new type from a given object-type where all properties of the given object-type is transformed from optional to mandatory. Thus, this utility is the complement of `Partial<Type>`."
   ]
  },
  {
   "cell_type": "code",
   "execution_count": 8,
   "metadata": {},
   "outputs": [
    {
     "name": "stderr",
     "output_type": "stream",
     "text": [
      "13:11 - Property 'balance' is missing in type '{ name: string; }' but required in type 'Required<Account>'.\n"
     ]
    }
   ],
   "source": [
    "{\n",
    "    interface Account {\n",
    "        name?: string;\n",
    "        balance?: number;\n",
    "    }\n",
    "\n",
    "    const account1:Account = {\n",
    "        name: 'foo',\n",
    "        // balance: 100,  // <-- absence of `balance` is okay, b/c this property is optional.\n",
    "    }\n",
    "\n",
    "    type RequiredAccount = Required<Account>\n",
    "    const account2:RequiredAccount = {\n",
    "        name: 'foo',\n",
    "        // balance: 100,  // <-- not okay, all property is mandatory.\n",
    "    }\n",
    "    // TypeError: \n",
    "    // Property 'balance' is missing in type '{ name: string; }' but required in type 'Required<Account>'.ts(2741)\n",
    "}"
   ]
  },
  {
   "attachments": {},
   "cell_type": "markdown",
   "metadata": {},
   "source": [
    "Under the hood, the `Required` utility is a mapped-type:\n",
    "\n",
    "```typescript\n",
    "type MyRequired<Type> = { \n",
    "    [key in keyof Type]-?: Type[key] \n",
    "}\n",
    "```\n",
    "Notice in above the syntax `-?` which declare the removal of optional (`?`)."
   ]
  },
  {
   "cell_type": "code",
   "execution_count": 7,
   "metadata": {},
   "outputs": [
    {
     "name": "stderr",
     "output_type": "stream",
     "text": [
      "17:11 - Property 'balance' is missing in type '{ name: string; }' but required in type 'MyRequired<Account>'.\n"
     ]
    }
   ],
   "source": [
    "{\n",
    "    type MyRequired<Type> = { \n",
    "        readonly [key in keyof Type]-?: Type[key] \n",
    "    }\n",
    "\n",
    "    interface Account {\n",
    "        name?: string;\n",
    "        balance?: number;\n",
    "    }\n",
    "\n",
    "    const account1:Account = {\n",
    "        name: 'foo',\n",
    "        // balance: 100,  // <-- absence of `balance` is okay, b/c this property is optional.\n",
    "    }\n",
    "\n",
    "    type RequiredAccount = MyRequired<Account>\n",
    "    const account2:RequiredAccount = {\n",
    "        name: 'foo',\n",
    "        // balance: 100,  // <-- not okay, all property is mandatory.\n",
    "    }\n",
    "    // TypeError: \n",
    "    // Property 'balance' is missing in type '{ name: string; }' but required in type 'Required<Account>'.ts(2741)\n",
    "}"
   ]
  },
  {
   "attachments": {},
   "cell_type": "markdown",
   "metadata": {},
   "source": [
    "Reference: \n",
    "\n",
    "- [Mapped types in TypeScript by Wojciech Trawiński](https://medium.com/javascript-everyday/mapped-types-in-typescript-6be8a0dd532c)\n",
    "\n",
    "- [typescriptlang.org/docs/handbook/utility-types.html#requiredtype](https://www.typescriptlang.org/docs/handbook/utility-types.html#requiredtype)"
   ]
  }
 ],
 "metadata": {
  "kernelspec": {
   "display_name": "TypeScript",
   "language": "typescript",
   "name": "tslab"
  },
  "language_info": {
   "codemirror_mode": {
    "mode": "typescript",
    "name": "javascript",
    "typescript": true
   },
   "file_extension": ".ts",
   "mimetype": "text/typescript",
   "name": "typescript",
   "version": "3.7.2"
  },
  "orig_nbformat": 4
 },
 "nbformat": 4,
 "nbformat_minor": 2
}
