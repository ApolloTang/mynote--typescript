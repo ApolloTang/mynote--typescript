{
 "cells": [
  {
   "attachments": {},
   "cell_type": "markdown",
   "metadata": {},
   "source": [
    "# Readonly\\<Type>\n",
    "\n",
    "The typescript utility type `Readonly<Type>` creates a new type from a given object-type where all properties of the given object-type is transformed to read-only. Thus, the properties of the created object-type is not mutable."
   ]
  },
  {
   "cell_type": "code",
   "execution_count": 7,
   "metadata": {},
   "outputs": [
    {
     "name": "stderr",
     "output_type": "stream",
     "text": [
      "21:14 - Cannot assign to 'balance' because it is a read-only property.\n"
     ]
    }
   ],
   "source": [
    "{\n",
    "    interface Account {\n",
    "        name: string;\n",
    "        balance: number;\n",
    "    }\n",
    "    \n",
    "    const account1:Account = {\n",
    "        name: 'foo',\n",
    "        balance: 100, \n",
    "    }\n",
    "    \n",
    "    account1.balance = 1000 // property `balance` is mutable.\n",
    "\n",
    "    type ImmutableAccount = Readonly<Account> // Create a new type from Account type\n",
    "    \n",
    "    const account2:ImmutableAccount = {\n",
    "        name: 'foo',\n",
    "        balance: 100, \n",
    "    }\n",
    "    \n",
    "    account2.balance = 1000 // Can no longer mutate property `balance`\n",
    "    // TypeError: \n",
    "    // Cannot assign to 'balance' because it is a read-only property.ts(2540)\n",
    "}"
   ]
  },
  {
   "attachments": {},
   "cell_type": "markdown",
   "metadata": {},
   "source": [
    "Under the hood, the `Readonly` utility is a mapped-type:\n",
    "\n",
    "```typescript\n",
    "type MyReadonly<Type> = { \n",
    "    readonly [key in keyof Type]: Type[key] \n",
    "}\n",
    "```\n",
    "Notice the decorator `readonly` before `[key in keyof Type]` which declares that the key to be read-only."
   ]
  },
  {
   "cell_type": "code",
   "execution_count": 8,
   "metadata": {},
   "outputs": [
    {
     "name": "stderr",
     "output_type": "stream",
     "text": [
      "25:14 - Cannot assign to 'balance' because it is a read-only property.\n"
     ]
    }
   ],
   "source": [
    "{\n",
    "    type MyReadonly<Type> = { \n",
    "        readonly [key in keyof Type]: Type[key] \n",
    "    }\n",
    "\n",
    "    interface Account {\n",
    "        name: string;\n",
    "        balance: number;\n",
    "    }\n",
    "    \n",
    "    const account1:Account = {\n",
    "        name: 'foo',\n",
    "        balance: 100, \n",
    "    }\n",
    "    \n",
    "    account1.balance = 1000 // property `balance` is mutable.\n",
    "\n",
    "    type ImmutableAccount = MyReadonly<Account> // Create a new type from Account type\n",
    "    \n",
    "    const account2:ImmutableAccount = {\n",
    "        name: 'foo',\n",
    "        balance: 100, \n",
    "    }\n",
    "    \n",
    "    account2.balance = 1000 // Can no longer mutate property `balance`\n",
    "    // TypeError: \n",
    "    // Cannot assign to 'balance' because it is a read-only property.ts(2540)\n",
    "}"
   ]
  },
  {
   "attachments": {},
   "cell_type": "markdown",
   "metadata": {},
   "source": [
    "Reference: \n",
    "\n",
    "- [Mapped types in TypeScript by Wojciech Trawiński](https://medium.com/javascript-everyday/mapped-types-in-typescript-6be8a0dd532c)\n",
    "\n",
    "- [typescriptlang.org/docs/handbook/utility-types.html#readonlytype](https://www.typescriptlang.org/docs/handbook/utility-types.html#readonlytype)"
   ]
  }
 ],
 "metadata": {
  "kernelspec": {
   "display_name": "TypeScript",
   "language": "typescript",
   "name": "tslab"
  },
  "language_info": {
   "codemirror_mode": {
    "mode": "typescript",
    "name": "javascript",
    "typescript": true
   },
   "file_extension": ".ts",
   "mimetype": "text/typescript",
   "name": "typescript",
   "version": "3.7.2"
  },
  "orig_nbformat": 4
 },
 "nbformat": 4,
 "nbformat_minor": 2
}
