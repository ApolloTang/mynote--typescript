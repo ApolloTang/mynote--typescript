{
 "cells": [
  {
   "attachments": {},
   "cell_type": "markdown",
   "metadata": {},
   "source": [
    "# Mapped types\n",
    "\n",
    "Reference: [Mapped types #12114](https://github.com/Microsoft/TypeScript/pull/12114)\n",
    "\n",
    "\n",
    "The most basic mapped type has the following construct:\n",
    "\n",
    "```typescript \n",
    "{ \n",
    "    [ P in K ] : T\n",
    "}\n",
    "```\n",
    "\n",
    "Where: \n",
    "- `P` is an identifier (type variable)\n",
    "- `K` is a a type that must be assgnable to `string`\n",
    "- `T` is some type that can be accessed via  `T[P]`\n",
    "\n",
    "With the above construct Mapped types will iterate throgh the element of union `K` to construct a new type , for example:\n",
    "\n",
    "```typescript \n",
    "type T1 = { \n",
    "    [P in \"x\" | \"y\"]: number \n",
    "}\n",
    "```\n",
    "\n",
    "So the created type, `T1` is equivalent to:\n",
    "```typescript\n",
    "type T1equivalent = {\n",
    "    x: number, \n",
    "    y: number\n",
    "}\n",
    "```\n"
   ]
  },
  {
   "cell_type": "code",
   "execution_count": 3,
   "metadata": {},
   "outputs": [],
   "source": [
    "import type {IsEqual} from 'type-fest'\n",
    "{\n",
    "    type T1 = { \n",
    "        [P in \"x\" | \"y\"]: number \n",
    "    }\n",
    "\n",
    "    type T1expected = {\n",
    "        x: number, \n",
    "        y: number\n",
    "    }\n",
    "\n",
    "    const assertion:IsEqual<T1, T1expected> = true\n",
    "}"
   ]
  }
 ],
 "metadata": {
  "kernelspec": {
   "display_name": "TypeScript",
   "language": "typescript",
   "name": "tslab"
  },
  "language_info": {
   "codemirror_mode": {
    "mode": "typescript",
    "name": "javascript",
    "typescript": true
   },
   "file_extension": ".ts",
   "mimetype": "text/typescript",
   "name": "typescript",
   "version": "3.7.2"
  },
  "orig_nbformat": 4
 },
 "nbformat": 4,
 "nbformat_minor": 2
}
