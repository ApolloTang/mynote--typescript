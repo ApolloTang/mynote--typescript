{
 "cells": [
  {
   "cell_type": "markdown",
   "metadata": {},
   "source": [
    "# [github.com/sindresorhus/type-fest](https://github.com/sindresorhus/type-fest)"
   ]
  },
  {
   "cell_type": "markdown",
   "metadata": {},
   "source": [
    "## Example usage:"
   ]
  },
  {
   "cell_type": "code",
   "execution_count": 2,
   "metadata": {},
   "outputs": [
    {
     "name": "stderr",
     "output_type": "stream",
     "text": [
      "8:11 - Type 'true' is not assignable to type 'false'.\n"
     ]
    }
   ],
   "source": [
    "import {IsEqual} from 'type-fest'\n",
    "{\n",
    "    type TRUTH = true\n",
    "    type False = false \n",
    "\n",
    "    const expect1:IsEqual<TRUTH, TRUTH> = true \n",
    "\n",
    "    const expect2:IsEqual<TRUTH, False> = true \n",
    "    //    ^^^^^^^-- Error: type 'true' is not assignable to type 'false'. \n",
    "}"
   ]
  }
 ],
 "metadata": {
  "kernelspec": {
   "display_name": "TypeScript",
   "language": "typescript",
   "name": "tslab"
  },
  "language_info": {
   "codemirror_mode": {
    "mode": "typescript",
    "name": "javascript",
    "typescript": true
   },
   "file_extension": ".ts",
   "mimetype": "text/typescript",
   "name": "typescript",
   "version": "3.7.2"
  },
  "orig_nbformat": 4
 },
 "nbformat": 4,
 "nbformat_minor": 2
}
