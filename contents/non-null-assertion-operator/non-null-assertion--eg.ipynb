{
 "cells": [
  {
   "attachments": {},
   "cell_type": "markdown",
   "metadata": {},
   "source": [
    "# Non-null assertion\n",
    "\n",
    "[Non null assertion operator release note](https://www.typescriptlang.org/docs/handbook/release-notes/typescript-2-0.html#non-null-assertion-operator)\n",
    "\n",
    "[SO| In Typescript, what is the ! (exclamation mark / bang) operator when dereferencing a member?](https://www.typescriptlang.org/docs/handbook/release-notes/typescript-2-0.html#non-null-assertion-operator)"
   ]
  },
  {
   "cell_type": "code",
   "execution_count": null,
   "metadata": {},
   "outputs": [],
   "source": [
    "{\n",
    "type Element = HTMLElement\n",
    "let elem:Element | null\n",
    "\n",
    "//@ts-expect-error Attempted to assign a type (Element | null) to variable of type Element\n",
    "let foo:Element = elem\n",
    "\n",
    "// Fix will non-null assertion operator\n",
    "foo = elem!\n",
    "}"
   ]
  }
 ],
 "metadata": {
  "kernelspec": {
   "display_name": "TypeScript",
   "language": "typescript",
   "name": "tslab"
  },
  "language_info": {
   "name": "typescript"
  },
  "orig_nbformat": 4
 },
 "nbformat": 4,
 "nbformat_minor": 2
}
