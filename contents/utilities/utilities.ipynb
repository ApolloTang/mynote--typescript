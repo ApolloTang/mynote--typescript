{
 "cells": [
  {
   "attachments": {},
   "cell_type": "markdown",
   "metadata": {},
   "source": [
    "# Predefined type utitlities\n",
    "\n",
    "- [Partial](../mapped-types--in-keyword/mapped-types-construct--in-keyof/in-keyof--applications/partial.ipynb)"
   ]
  }
 ],
 "metadata": {
  "kernelspec": {
   "display_name": ".venv",
   "language": "python",
   "name": "python3"
  },
  "language_info": {
   "name": "python",
   "version": "3.10.8 (main, Oct 13 2022, 10:17:43) [Clang 14.0.0 (clang-1400.0.29.102)]"
  },
  "orig_nbformat": 4,
  "vscode": {
   "interpreter": {
    "hash": "93963f0ca25921520f8e543b6dfec64096291306b00219f873f5d827a3cdfa6d"
   }
  }
 },
 "nbformat": 4,
 "nbformat_minor": 2
}
