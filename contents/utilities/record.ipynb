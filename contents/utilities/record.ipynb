{
 "cells": [
  {
   "attachments": {},
   "cell_type": "markdown",
   "metadata": {},
   "source": [
    "# Record\n",
    "\n",
    "This article is my attempt to explain how the utility [Record](https://www.typescriptlang.org/docs/handbook/utility-types.html#recordkeys-type) work:\n",
    "\n",
    "\n",
    "Seen from the [source](https://github.com/microsoft/TypeScript/blob/2f34e57ed39ba67b4c4b26bbcb6088cf39aa308a/src/lib/es5.d.ts#L1581), here is the implemented of Record:"
   ]
  },
  {
   "cell_type": "code",
   "execution_count": 14,
   "metadata": {},
   "outputs": [],
   "source": [
    "{\n",
    "    type MyRecord<K extends keyof any, T> = {\n",
    "        [P in K]: T;\n",
    "    };\n",
    "}"
   ]
  },
  {
   "cell_type": "markdown",
   "metadata": {},
   "source": [
    "In above, the operator `keyof` returns a union of all type for the keys of the given operand type ([Ref](https://www.typescriptlang.org/docs/handbook/2/keyof-types.html)). \n",
    "\n",
    "In this case, the operand type is `any`, the operation returns `string | number | symbol`. "
   ]
  },
  {
   "cell_type": "code",
   "execution_count": 15,
   "metadata": {},
   "outputs": [],
   "source": [
    "import {IsEqual} from 'type-fest'\n",
    "{\n",
    "    type KeyOfAny = keyof any\n",
    "    const expect1:IsEqual<KeyOfAny, string | number | symbol> = true \n",
    "}"
   ]
  },
  {
   "cell_type": "markdown",
   "metadata": {},
   "source": [
    "The type parameter:\n",
    "\n",
    "```\n",
    "<K extends keyof any>\n",
    "```\n",
    "can therefore be rewritten as:\n",
    "\n",
    "```\n",
    "<K extends keyof string | number | symbol >\n",
    "```\n",
    "The above expression will constraints `K` to one of `string`, `number` or `symbol`:"
   ]
  },
  {
   "cell_type": "code",
   "execution_count": 16,
   "metadata": {},
   "outputs": [],
   "source": [
    "import {IsEqual} from 'type-fest'  \n",
    "{\n",
    "    type IsKeyOfAny<K> = K extends keyof any ? true : false\n",
    "\n",
    "    const expect1: IsEqual<IsKeyOfAny<string>, true> = true \n",
    "    const expect2: IsEqual<IsKeyOfAny<number>, true> = true \n",
    "    const expect3: IsEqual<IsKeyOfAny<symbol>, true> = true \n",
    "\n",
    "    const expect4: IsEqual<IsKeyOfAny<boolean>, false> = true \n",
    "}"
   ]
  },
  {
   "cell_type": "markdown",
   "metadata": {},
   "source": [
    "In the context of javascript object, `keyof any` represent the type for key that can be use for the object's property. Namely, `string`, `number` or `symbol`.  \n",
    "\n",
    "We can describe an object using the [index signatures syntax](https://www.typescriptlang.org/docs/handbook/2/objects.html#index-signatures) for each case where the type when the type for key being `string`, `number` or `symbol`:"
   ]
  },
  {
   "cell_type": "code",
   "execution_count": 17,
   "metadata": {},
   "outputs": [],
   "source": [
    "// For the case when K is string:\n",
    "{\n",
    "    type MyObject<T> = {\n",
    "        [P: string]: T \n",
    "    } \n",
    "    const o: MyObject<string> = {}\n",
    "    o['1'] = 'some string'\n",
    "}\n",
    "\n",
    "// For the case when K is number:\n",
    "{\n",
    "    type MyObject<T> = {\n",
    "        [P: number]: T \n",
    "    } \n",
    "    const o: MyObject<string> = {}\n",
    "    o[2] = 'some string'\n",
    "}\n",
    "\n",
    "// For the case when K is symbol:\n",
    "{\n",
    "    type MyObject2<T> = {\n",
    "        [P: symbol]: T \n",
    "    } \n",
    "    const o: MyObject2<string> = {}\n",
    "    o[Symbol(1)] = 'some string'\n",
    "}\n"
   ]
  },
  {
   "cell_type": "markdown",
   "metadata": {},
   "source": [
    "The above is very repetative; we can untilize the constraint syntax `K extends string | number | symbol` to avoid repetition. However, this will cause compiler error:"
   ]
  },
  {
   "cell_type": "code",
   "execution_count": 18,
   "metadata": {},
   "outputs": [
    {
     "name": "stderr",
     "output_type": "stream",
     "text": [
      "3:10 - An index signature parameter type cannot be a literal type or generic type. Consider using a mapped object type instead.\n"
     ]
    }
   ],
   "source": [
    "{\n",
    "    type MyObject<K extends keyof any, T> = {\n",
    "        [P: K]: T \n",
    "    //   ^--- Error: An index signature parameter type cannot be a literal type or generic type. \n",
    "    //               Consider using a mapped object type instead.\n",
    "    } \n",
    "\n",
    "    const o1: MyObject<symbol, string> = {}\n",
    "    o1['1'] = 'some string'\n",
    "\n",
    "    const o2: MyObject<symbol, string> = {}\n",
    "    o2[1] = 'some string'\n",
    "\n",
    "    const o3: MyObject<symbol, string> = {}\n",
    "    o2[Symbol(1)] = 'some string'\n",
    "\n",
    "    console.log(o1, o2, o3)\n",
    "}\n"
   ]
  },
  {
   "cell_type": "markdown",
   "metadata": {},
   "source": [
    "The typescript compiler does not let you use generic parameter `K` as a type of index `P`. It suggest you to use a mapped object type: "
   ]
  },
  {
   "cell_type": "code",
   "execution_count": null,
   "metadata": {},
   "outputs": [],
   "source": [
    "{\n",
    "    type MyObject<K extends keyof any, T> = {\n",
    "        [P in K]: T \n",
    "    } \n",
    "\n",
    "    const o1: MyObject<symbol, string> = {}\n",
    "    o1['1'] = 'some string 1'\n",
    "\n",
    "    const o2: MyObject<symbol, string> = {}\n",
    "    o2[1] = 'some string 2'\n",
    "\n",
    "    const o3: MyObject<symbol, string> = {}\n",
    "    o3[Symbol(1)] = 'some string 2'\n",
    "\n",
    "    console.log(o1)\n",
    "    console.log(o2)\n",
    "    console.log(o3)\n",
    "}"
   ]
  },
  {
   "cell_type": "markdown",
   "metadata": {},
   "source": [
    "Note that for an javascript object, key as type `number` and type `string` are treated as a same key of record:"
   ]
  },
  {
   "cell_type": "code",
   "execution_count": null,
   "metadata": {},
   "outputs": [],
   "source": [
    "{\n",
    "    const foo = {\n",
    "        '1': 'string',\n",
    "        1: 'number'\n",
    "    //  ^--- Error: Duplicate identifier '1' \n",
    "    }\n",
    "}"
   ]
  },
  {
   "attachments": {},
   "cell_type": "markdown",
   "metadata": {},
   "source": [
    "toread:\n",
    "\n",
    "https://stackoverflow.com/questions/65834261/initialize-empty-object-in-typescript-with-record-type\n",
    "\n",
    "https://stackoverflow.com/questions/70367555/how-to-define-an-empty-object-in-typescript\n",
    "\n",
    "https://www.google.com/search?q=assign+empty+object+to+Record+site:stackoverflow.com&sxsrf=APwXEddQMWKlTgiIU8RsaneUajlXWL-xzg:1682195166270&sa=X&ved=2ahUKEwjCh9Cqqb7-AhW8kokEHS8JCZYQrQIoBHoECBQQBQ&biw=1453&bih=864&dpr=1"
   ]
  }
 ],
 "metadata": {
  "kernelspec": {
   "display_name": "TypeScript",
   "language": "typescript",
   "name": "tslab"
  },
  "language_info": {
   "codemirror_mode": {
    "mode": "typescript",
    "name": "javascript",
    "typescript": true
   },
   "file_extension": ".ts",
   "mimetype": "text/typescript",
   "name": "typescript",
   "version": "3.7.2"
  },
  "orig_nbformat": 4
 },
 "nbformat": 4,
 "nbformat_minor": 2
}
