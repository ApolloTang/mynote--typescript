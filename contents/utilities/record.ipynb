{
 "cells": [
  {
   "attachments": {},
   "cell_type": "markdown",
   "metadata": {},
   "source": [
    "# Record\n",
    "\n",
    "This is how Record utitility is implemented:"
   ]
  },
  {
   "cell_type": "code",
   "execution_count": null,
   "metadata": {},
   "outputs": [],
   "source": [
    "{\n",
    "    type MyRecord<K extends keyof any, T> = {\n",
    "        [P in K]: T;\n",
    "    };\n",
    "}\n"
   ]
  },
  {
   "attachments": {},
   "cell_type": "markdown",
   "metadata": {},
   "source": [
    "toread:\n",
    "\n",
    "https://stackoverflow.com/questions/65834261/initialize-empty-object-in-typescript-with-record-type\n",
    "\n",
    "https://stackoverflow.com/questions/70367555/how-to-define-an-empty-object-in-typescript\n",
    "\n",
    "https://www.google.com/search?q=assign+empty+object+to+Record+site:stackoverflow.com&sxsrf=APwXEddQMWKlTgiIU8RsaneUajlXWL-xzg:1682195166270&sa=X&ved=2ahUKEwjCh9Cqqb7-AhW8kokEHS8JCZYQrQIoBHoECBQQBQ&biw=1453&bih=864&dpr=1\n",
    "\n",
    "\n"
   ]
  }
 ],
 "metadata": {
  "kernelspec": {
   "display_name": "TypeScript",
   "language": "typescript",
   "name": "tslab"
  },
  "language_info": {
   "name": "typescript"
  },
  "orig_nbformat": 4
 },
 "nbformat": 4,
 "nbformat_minor": 2
}
