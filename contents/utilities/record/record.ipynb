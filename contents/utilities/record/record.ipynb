{
 "cells": [
  {
   "attachments": {},
   "cell_type": "markdown",
   "metadata": {},
   "source": [
    "# Record\n",
    "\n",
    "This article is my attempt to explain how the utility [Record](https://www.typescriptlang.org/docs/handbook/utility-types.html#recordkeys-type) work:\n",
    "\n",
    "\n",
    "Seen from the [source](https://github.com/microsoft/TypeScript/blob/2f34e57ed39ba67b4c4b26bbcb6088cf39aa308a/src/lib/es5.d.ts#L1581), here is the implementation of Record:"
   ]
  },
  {
   "cell_type": "code",
   "execution_count": 30,
   "metadata": {},
   "outputs": [],
   "source": [
    "{\n",
    "    type Record<K extends keyof any, T> = {\n",
    "        [P in K]: T;\n",
    "    };\n",
    "}"
   ]
  },
  {
   "cell_type": "markdown",
   "metadata": {},
   "source": [
    "In the generic parameter, the operator `keyof` returns a union of all types for the keys in the given operand ([Ref](https://www.typescriptlang.org/docs/handbook/2/keyof-types.html)). \n",
    "\n",
    "In this case, the operand is `any` type, and the return of the operation is `string | number | symbol`. "
   ]
  },
  {
   "cell_type": "code",
   "execution_count": 31,
   "metadata": {},
   "outputs": [],
   "source": [
    "import {IsEqual} from 'type-fest'\n",
    "{\n",
    "    type KeyOfAny = keyof any\n",
    "    const expect1:IsEqual<KeyOfAny, string | number | symbol> = true \n",
    "}"
   ]
  },
  {
   "cell_type": "markdown",
   "metadata": {},
   "source": [
    "The type parameter:\n",
    "\n",
    "```\n",
    "<K extends keyof any>\n",
    "```\n",
    "can therefore be rewritten as:\n",
    "\n",
    "```\n",
    "<K extends keyof string | number | symbol >\n",
    "```\n",
    "The above expression constraints `K` to one of `string`, `number` or `symbol`:"
   ]
  },
  {
   "cell_type": "code",
   "execution_count": 32,
   "metadata": {},
   "outputs": [],
   "source": [
    "import {IsEqual} from 'type-fest'  \n",
    "{\n",
    "    type IsKeyOfAny<K> = K extends keyof any ? true : false\n",
    "\n",
    "    const expect1: IsEqual<IsKeyOfAny<string>, true> = true \n",
    "    const expect2: IsEqual<IsKeyOfAny<number>, true> = true \n",
    "    const expect3: IsEqual<IsKeyOfAny<symbol>, true> = true \n",
    "\n",
    "    const expect4: IsEqual<IsKeyOfAny<boolean>, false> = true \n",
    "}"
   ]
  },
  {
   "cell_type": "markdown",
   "metadata": {},
   "source": [
    "In the context of javascript object, `keyof any` represent the types for key that can be use as an object's property. These types are `string`, `number` or `symbol`.  \n",
    "\n",
    "Since we can describe an object using the [index signatures syntax](https://www.typescriptlang.org/docs/handbook/2/objects.html#index-signatures), we can write the object type description for each of this three cases:"
   ]
  },
  {
   "cell_type": "code",
   "execution_count": 33,
   "metadata": {},
   "outputs": [],
   "source": [
    "// For the case when K is string:\n",
    "{\n",
    "    type MyObject<T> = {\n",
    "        [P: string]: T \n",
    "    } \n",
    "    const o: MyObject<string> = {}\n",
    "    o['1'] = 'some string'\n",
    "}\n",
    "\n",
    "// For the case when K is number:\n",
    "{\n",
    "    type MyObject<T> = {\n",
    "        [P: number]: T \n",
    "    } \n",
    "    const o: MyObject<string> = {}\n",
    "    o[1] = 'some string'\n",
    "}\n",
    "\n",
    "// For the case when K is symbol:\n",
    "{\n",
    "    type MyObject2<T> = {\n",
    "        [P: symbol]: T \n",
    "    } \n",
    "    const o: MyObject2<string> = {}\n",
    "    o[Symbol(1)] = 'some string'\n",
    "}\n"
   ]
  },
  {
   "cell_type": "markdown",
   "metadata": {},
   "source": [
    "To avoid repetition we can utilize the constraints `K extends string | number | symbol`, or `K extends keyof any`; however, this will cause compiler error:"
   ]
  },
  {
   "cell_type": "code",
   "execution_count": 38,
   "metadata": {},
   "outputs": [
    {
     "name": "stderr",
     "output_type": "stream",
     "text": [
      "3:10 - An index signature parameter type cannot be a literal type or generic type. Consider using a mapped object type instead.\n"
     ]
    }
   ],
   "source": [
    "{\n",
    "    type MyObject<K extends keyof any, T> = {\n",
    "        [P: K]: T \n",
    "    //   ^--- Error: An index signature parameter type cannot be a literal type or generic type. \n",
    "    //               Consider using a mapped object type instead.\n",
    "    } \n",
    "\n",
    "    // For the case when K is string:\n",
    "    {\n",
    "        const o: MyObject<string, string> = {}\n",
    "        o['1'] = 'some string'\n",
    "        console.log(o)\n",
    "    }\n",
    "\n",
    "    // For the case when K is number:\n",
    "    {\n",
    "        const o: MyObject<number, string> = {}\n",
    "        o[1] = 'some string'\n",
    "        console.log(o)\n",
    "    }\n",
    "\n",
    "    // For the case when K is symbol:\n",
    "    {\n",
    "        const o: MyObject<symbol, string> = {}\n",
    "        o[Symbol(1)] = 'some string'\n",
    "        console.log(o)\n",
    "    }\n",
    "}"
   ]
  },
  {
   "cell_type": "markdown",
   "metadata": {},
   "source": [
    "The typescript compiler does not let you use generic parameter (`K`) as a type of index (`P`). It suggest you to use a [mapped object type](https://github.com/Microsoft/TypeScript/pull/12114): "
   ]
  },
  {
   "cell_type": "code",
   "execution_count": 37,
   "metadata": {},
   "outputs": [
    {
     "name": "stdout",
     "output_type": "stream",
     "text": [
      "{ '1': 'some string' }\n",
      "{ '1': 'some string' }\n",
      "{ [Symbol(1)]: 'some string' }\n"
     ]
    }
   ],
   "source": [
    "{\n",
    "    type MyObject<K extends keyof any, T> = {\n",
    "        [P in K]: T \n",
    "    } \n",
    "\n",
    "    // For the case when K is string:\n",
    "    {\n",
    "        const o: MyObject<string, string> = {}\n",
    "        o['1'] = 'some string'\n",
    "        console.log(o)\n",
    "    }\n",
    "\n",
    "    // For the case when K is number:\n",
    "    {\n",
    "        const o: MyObject<number, string> = {}\n",
    "        o[1] = 'some string'\n",
    "        console.log(o)\n",
    "    }\n",
    "\n",
    "    // For the case when K is symbol:\n",
    "    {\n",
    "        const o: MyObject<symbol, string> = {}\n",
    "        o[Symbol(1)] = 'some string'\n",
    "        console.log(o)\n",
    "    }\n",
    "}"
   ]
  },
  {
   "cell_type": "markdown",
   "metadata": {},
   "source": [
    " In the above I have named the type description for the object `MyObject`, which is actually the `Record` utility in typescript.   "
   ]
  },
  {
   "cell_type": "markdown",
   "metadata": {},
   "source": [
    "Note that for an javascript object, key as type `number` and type `string` are treated as a same key of record:"
   ]
  },
  {
   "cell_type": "code",
   "execution_count": null,
   "metadata": {},
   "outputs": [],
   "source": [
    "{\n",
    "    const foo = {\n",
    "        '1': 'string',\n",
    "        1: 'number'\n",
    "    //  ^--- Error: Duplicate identifier '1' \n",
    "    }\n",
    "}"
   ]
  }
 ],
 "metadata": {
  "kernelspec": {
   "display_name": "TypeScript",
   "language": "typescript",
   "name": "tslab"
  },
  "language_info": {
   "codemirror_mode": {
    "mode": "typescript",
    "name": "javascript",
    "typescript": true
   },
   "file_extension": ".ts",
   "mimetype": "text/typescript",
   "name": "typescript",
   "version": "3.7.2"
  },
  "orig_nbformat": 4
 },
 "nbformat": 4,
 "nbformat_minor": 2
}
