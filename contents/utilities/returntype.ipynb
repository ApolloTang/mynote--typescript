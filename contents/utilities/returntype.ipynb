{
 "cells": [
  {
   "cell_type": "markdown",
   "metadata": {},
   "source": [
    "References:\n",
    "\n",
    "https://www.typescriptlang.org/docs/handbook/utility-types.html#returntypetype\n",
    "\n",
    "https://blog.bitsrc.io/typescripts-type-manipulations-58fee110be28\n"
   ]
  },
  {
   "cell_type": "markdown",
   "metadata": {},
   "source": [
    "\n",
    "\n",
    "\n",
    "```ts\n",
    "ReturnType<T>\n",
    "```\n",
    "This utility extract the return type of the given function **type definition** `T`.\n",
    "\n",
    "Easy mistake to make is passing a value instead type as `T`:\n"
   ]
  },
  {
   "cell_type": "code",
   "execution_count": 1,
   "metadata": {},
   "outputs": [
    {
     "name": "stderr",
     "output_type": "stream",
     "text": [
      "3:31 - 'f1' refers to a value, but is being used as a type here. Did you mean 'typeof f1'?\n"
     ]
    }
   ],
   "source": [
    ";(()=>{\n",
    "    const f1 = () => ({a:'a', b: 1})\n",
    "    type f1_Type = ReturnType<f1>\n",
    "                        //    ^^\n",
    "                        //    'f1' refers to a value... \n",
    "})()"
   ]
  },
  {
   "cell_type": "markdown",
   "metadata": {},
   "source": [
    "Make sure you use the `typeof` operator to extract the type of you function first before passing into the `ReturnType` utility."
   ]
  },
  {
   "cell_type": "code",
   "execution_count": null,
   "metadata": {},
   "outputs": [],
   "source": [
    ";(()=>{\n",
    "    const f1 = () => ({a:'a', b: 1})\n",
    "    type f1_Type = ReturnType<typeof f1>\n",
    "    //   ^^^^^^^\n",
    "    //          type f1_Type = {\n",
    "    //              a: string;\n",
    "    //              b: number;\n",
    "    // }\n",
    "})()"
   ]
  }
 ],
 "metadata": {
  "kernelspec": {
   "display_name": "TypeScript",
   "language": "typescript",
   "name": "tslab"
  },
  "language_info": {
   "codemirror_mode": {
    "mode": "typescript",
    "name": "javascript",
    "typescript": true
   },
   "file_extension": ".ts",
   "mimetype": "text/typescript",
   "name": "typescript",
   "version": "3.7.2"
  },
  "orig_nbformat": 4
 },
 "nbformat": 4,
 "nbformat_minor": 2
}
