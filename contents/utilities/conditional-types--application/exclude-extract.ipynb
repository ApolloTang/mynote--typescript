{
 "cells": [
  {
   "attachments": {},
   "cell_type": "markdown",
   "metadata": {},
   "source": [
    "# Exclude\\<T, U> and Extract\\<T,U>\n",
    "\n",
    "Reference:\n",
    "\n",
    "- [typescriptlang.org/docs/handbook/release-notes/typescript-2-8.html#predefined-conditional-types](https://www.typescriptlang.org/docs/handbook/release-notes/typescript-2-8.html#predefined-conditional-types)\n",
    "\n",
    "- [typescriptlang.org/docs/handbook/utility-types.html#excludeuniontype-excludedmembers](https://www.typescriptlang.org/docs/handbook/utility-types.html#excludeuniontype-excludedmembers)\n",
    "\n",
    "- [typescriptlang.org/docs/handbook/utility-types.html#extracttype-union](https://www.typescriptlang.org/docs/handbook/utility-types.html#extracttype-union)\n",
    "\n",
    "\n",
    "Syntex:\n",
    "\n",
    "```Typescript\n",
    "Exclude<T, U> // Exclude elements in union type `T` that are assignable to union type `U` \n",
    "Extract<T, U> // Extract elements in union type `T` that are assignable to union type `U` \n",
    "```\n",
    "The predefined type utility `Exclude` excludes elements in union type `T` that are assignable to union type `U`. Its complement, the `Extract` does the opposite -- it excludes elements in union type `T` that are **NOT** assignable to union type `U`.     "
   ]
  },
  {
   "cell_type": "code",
   "execution_count": 4,
   "metadata": {},
   "outputs": [],
   "source": [
    "import {IsEqual} from 'type-fest'\n",
    "{\n",
    "    type Plants = 'tree' | 'flower'\n",
    "    type Animal = 'dog' | 'cat'\n",
    "    type LivingThings = Plants | Animal\n",
    "\n",
    "    type OnlyAnimal = Exclude<LivingThings, Plants>\n",
    "    type OnlyPlants = Extract<LivingThings, Plants>\n",
    "\n",
    "    const expect1:IsEqual<OnlyAnimal, Animal> = true \n",
    "    const expect2:IsEqual<OnlyPlants, Plants> = true \n",
    "}"
   ]
  },
  {
   "attachments": {},
   "cell_type": "markdown",
   "metadata": {},
   "source": [
    "The implimentation of `Exclude` uses condition as follow:\n",
    "\n",
    "```typescript\n",
    "type MyExclude<T, U> = T extends U ? never : T \n",
    "type MyExtract<T, U> = T extends U ? T : never \n",
    "```"
   ]
  },
  {
   "cell_type": "code",
   "execution_count": 3,
   "metadata": {},
   "outputs": [],
   "source": [
    "import {IsEqual} from 'type-fest'\n",
    "{\n",
    "    type MyExclude<T, U> = T extends U ? never : T \n",
    "    type MyExtract<T, U> = T extends U ? T : never \n",
    "\n",
    "    type Plants = 'tree' | 'flower'\n",
    "    type Animal = 'dog' | 'cat'\n",
    "    type LivingThings = Plants | Animal\n",
    "\n",
    "    type OnlyAnimal = MyExclude<LivingThings, Plants>\n",
    "    type OnlyPlants = MyExtract<LivingThings, Plants>\n",
    "\n",
    "    const expect1:IsEqual<OnlyAnimal, Animal> = true \n",
    "    const expect2:IsEqual<OnlyPlants, Plants> = true \n",
    "}"
   ]
  }
 ],
 "metadata": {
  "kernelspec": {
   "display_name": "TypeScript",
   "language": "typescript",
   "name": "tslab"
  },
  "language_info": {
   "codemirror_mode": {
    "mode": "typescript",
    "name": "javascript",
    "typescript": true
   },
   "file_extension": ".ts",
   "mimetype": "text/typescript",
   "name": "typescript",
   "version": "3.7.2"
  },
  "orig_nbformat": 4
 },
 "nbformat": 4,
 "nbformat_minor": 2
}
