{
 "cells": [
  {
   "attachments": {},
   "cell_type": "markdown",
   "metadata": {},
   "source": [
    "# Type argument inference\n",
    "\n",
    "reference: \n",
    "\n",
    "[https://medium.com/frontend-canteen/what-are-k-t-and-v-in-typescript-generics-9fabe1d0f0f3](https://medium.com/frontend-canteen/what-are-k-t-and-v-in-typescript-generics-9fabe1d0f0f3)\n",
    "\n",
    "[typescriptlang.org | Generics](https://www.typescriptlang.org/docs/handbook/2/generics.html)\n",
    "\n"
   ]
  },
  {
   "cell_type": "markdown",
   "metadata": {},
   "source": [
    "If `compilerOptions.stict` or `compilerOptions.noImplicitAny` is set, typscript will complain if you did not specify the type for function's formal-parameters: "
   ]
  },
  {
   "cell_type": "code",
   "execution_count": null,
   "metadata": {},
   "outputs": [],
   "source": [
    "function foo(a) {\n",
    "    //       ^--[tsserver 7006] Parameter 'a' implicitly has an 'any' type.\n",
    "    return a\n",
    "}\n",
    "const k = foo('I am an \"any\"')\n",
    "//    ^-- const k: any"
   ]
  },
  {
   "cell_type": "markdown",
   "metadata": {},
   "source": [
    "However, if you specify *generic type parameters* for your function's formal-parameters, typescript will infer the type for you if you leave out the type parameters when you call the function:  "
   ]
  },
  {
   "cell_type": "code",
   "execution_count": null,
   "metadata": {},
   "outputs": [],
   "source": [
    "function bar<T>(a:T) {\n",
    "    return a\n",
    "}\n",
    "\n",
    "const j = bar('I am a string literal')\n",
    "//    ^-- const j: 'I am a string literal'"
   ]
  }
 ],
 "metadata": {
  "kernelspec": {
   "display_name": "TypeScript",
   "language": "typescript",
   "name": "tslab"
  },
  "language_info": {
   "codemirror_mode": {
    "mode": "typescript",
    "name": "javascript",
    "typescript": true
   },
   "file_extension": ".ts",
   "mimetype": "text/typescript",
   "name": "typescript",
   "version": "3.7.2"
  },
  "orig_nbformat": 4
 },
 "nbformat": 4,
 "nbformat_minor": 2
}
