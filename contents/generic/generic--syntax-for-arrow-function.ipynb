{
 "cells": [
  {
   "cell_type": "markdown",
   "id": "29fe12ef",
   "metadata": {},
   "source": [
    "## Generic for arrow function expression\n",
    "\n",
    "[https://stackoverflow.com/questions/32308370/what-is-the-syntax-for-typescript-arrow-functions-with-generics](https://stackoverflow.com/questions/32308370/what-is-the-syntax-for-typescript-arrow-functions-with-generics)"
   ]
  },
  {
   "cell_type": "code",
   "execution_count": null,
   "id": "c55123ac",
   "metadata": {},
   "outputs": [],
   "source": [
    "{\n",
    "    const myFnExpression = <T,>():T => {\n",
    "        throw \"unimplemented\"\n",
    "    }\n",
    "\n",
    "    const a = myFnExpression<string>()\n",
    "}"
   ]
  },
  {
   "cell_type": "code",
   "execution_count": null,
   "id": "a57020cc",
   "metadata": {},
   "outputs": [],
   "source": [
    "{\n",
    "    const myFnExpression = <T,S>(arg:S):T => {\n",
    "        throw \"unimplemented\"\n",
    "    }\n",
    "\n",
    "    const a = myFnExpression<string, number>(1)\n",
    "}"
   ]
  }
 ],
 "metadata": {
  "celltoolbar": "Slideshow",
  "kernelspec": {
   "display_name": "TypeScript",
   "language": "typescript",
   "name": "tslab"
  },
  "language_info": {
   "codemirror_mode": {
    "mode": "typescript",
    "name": "javascript",
    "typescript": true
   },
   "file_extension": ".ts",
   "mimetype": "text/typescript",
   "name": "typescript",
   "version": "3.7.2"
  }
 },
 "nbformat": 4,
 "nbformat_minor": 5
}
