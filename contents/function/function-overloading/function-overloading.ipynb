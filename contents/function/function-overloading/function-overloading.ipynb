{
 "cells": [
  {
   "attachments": {},
   "cell_type": "markdown",
   "metadata": {},
   "source": [
    "# Function overloading\n",
    "\n",
    "To create function overloading, we first need to create an **implimentation function**. This implementation function must check the arguments for type, based on the type passed into the fuction, the implimentation calls the appropriate code in the function. \n",
    "\n",
    "The signature of the implementation function signature must be generic enough to cover all the overloads."
   ]
  },
  {
   "cell_type": "code",
   "execution_count": 19,
   "metadata": {},
   "outputs": [
    {
     "name": "stdout",
     "output_type": "stream",
     "text": [
      "3\n",
      "3\n",
      "3\n"
     ]
    }
   ],
   "source": [
    ";(()=>{\n",
    "    function add(arg1:number|number[], arg2?:number):number {\n",
    "        if (Array.isArray(arg1)) {\n",
    "            return arg1.reduce( (a, b) => a + b , 0);\n",
    "        }\n",
    "     \n",
    "        if (typeof arg1==\"number\" && typeof arg2==\"number\") {\n",
    "            return arg1 + arg2;\n",
    "        }\n",
    "    \n",
    "        throw Error('invalid arguement(s)')\n",
    "    }\n",
    "    console.log(add(1,2))\n",
    "    console.log(add([1,2]))\n",
    "    console.log(add([1,2],3))\n",
    "})()"
   ]
  },
  {
   "attachments": {},
   "cell_type": "markdown",
   "metadata": {},
   "source": [
    "Next, we create overload signatures for that function and place the overload signatures directly above the implementation function."
   ]
  },
  {
   "cell_type": "code",
   "execution_count": 20,
   "metadata": {},
   "outputs": [
    {
     "name": "stderr",
     "output_type": "stream",
     "text": [
      "17:21 - Argument of type 'number[]' is not assignable to parameter of type 'number'.\n"
     ]
    }
   ],
   "source": [
    ";(()=>{\n",
    "    function add(num1:number,num2:number):number\n",
    "    function add(numArray:number[]):number\n",
    "    function add(arg1:number|number[], arg2?:number):number {\n",
    "        if (Array.isArray(arg1)) {\n",
    "            return arg1.reduce( (a, b) => a + b , 0);\n",
    "        }\n",
    "     \n",
    "        if (typeof arg1==\"number\" && typeof arg2==\"number\") {\n",
    "            return arg1 + arg2;\n",
    "        }\n",
    "    \n",
    "        throw Error('invalid arguement(s)')\n",
    "    }\n",
    "    console.log(add(1,2))\n",
    "    console.log(add([1,2]))\n",
    "    console.log(add([1,2],3))\n",
    "})()"
   ]
  },
  {
   "attachments": {},
   "cell_type": "markdown",
   "metadata": {},
   "source": [
    "Notice that the overload signatures does not have braces (`{` and `}`), thus the function body is absense.\n",
    "\n",
    "Also note that prior to adding overload signatures, typescript compiler does not give us error when whe calling the function: \n",
    "\n",
    "```typescript\n",
    "console.log(add([1,2],3))\n",
    "```\n",
    "After adding overload signatures, calling the above will result in typescript complaining: \n",
    "```\n",
    "\"Argument of type 'number[]' is not assignable to parameter of type 'number'.\"\n",
    "```\n",
    "There are few things you much watch out for when building function overloading:\n",
    "\n",
    "- Order of overload signature is important. Signatures with higher specificity should declare first. This is because when resolving function calls TypeScript chooses the first matching overload and ignore the rest.\n",
    "- The number of arguments (arity) in the overloading signature cannot be greater than that in the implementation function.\n",
    "- If an argument in the implemention function is missing from the overloading, mark it as optional in the implementation function.\n",
    "- The data type of each overloading arguments must be typed-assignable to the arguments data type in the implementation function.\n"
   ]
  }
 ],
 "metadata": {
  "kernelspec": {
   "display_name": "TypeScript",
   "language": "typescript",
   "name": "tslab"
  },
  "language_info": {
   "codemirror_mode": {
    "mode": "typescript",
    "name": "javascript",
    "typescript": true
   },
   "file_extension": ".ts",
   "mimetype": "text/typescript",
   "name": "typescript",
   "version": "3.7.2"
  },
  "orig_nbformat": 4
 },
 "nbformat": 4,
 "nbformat_minor": 2
}
