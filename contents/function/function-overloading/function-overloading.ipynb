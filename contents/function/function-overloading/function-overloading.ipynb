{
 "cells": [
  {
   "attachments": {},
   "cell_type": "markdown",
   "metadata": {},
   "source": [
    "To create function overloading, we first need to create an implimentation function. This implementation will check the arguments for type, and call the appropriate code in the function based on the type passed into the function. \n",
    "\n",
    "The implementation function is a function that actually contains the code. Its signature must be generic enough to cover all the overloads."
   ]
  },
  {
   "cell_type": "code",
   "execution_count": null,
   "metadata": {},
   "outputs": [],
   "source": [
    ";(()=>{\n",
    "    function add(arg1:number|number[], arg2?:number):number {\n",
    "        if (Array.isArray(arg1)) {\n",
    "            return arg1.reduce( (a, b) => a + b , 0);\n",
    "        }\n",
    "     \n",
    "        if (typeof arg1==\"number\" && typeof arg2==\"number\") {\n",
    "            return arg1 + arg2;\n",
    "        }\n",
    "    \n",
    "        throw Error('invalid arguement(s)')\n",
    "    }\n",
    "    console.log(add(1,2))\n",
    "    console.log(add([1,2]))\n",
    "    console.log(add([1,2],3))\n",
    "})()"
   ]
  },
  {
   "attachments": {},
   "cell_type": "markdown",
   "metadata": {},
   "source": [
    "Next, we create overload signatures for that function and place the overload signatures directly above the implementation function."
   ]
  },
  {
   "cell_type": "code",
   "execution_count": null,
   "metadata": {},
   "outputs": [],
   "source": [
    ";(()=>{\n",
    "    function add(num1:number,num2:number):number\n",
    "    function add(numArray:number[]):number\n",
    "    function add(arg1:number|number[], arg2?:number):number {\n",
    "        if (Array.isArray(arg1)) {\n",
    "            return arg1.reduce( (a, b) => a + b , 0);\n",
    "        }\n",
    "     \n",
    "        if (typeof arg1==\"number\" && typeof arg2==\"number\") {\n",
    "            return arg1 + arg2;\n",
    "        }\n",
    "    \n",
    "        throw Error('invalid arguement(s)')\n",
    "    }\n",
    "    console.log(add(1,2))\n",
    "    console.log(add([1,2]))\n",
    "    console.log(add([1,2],3))\n",
    "})()"
   ]
  },
  {
   "attachments": {},
   "cell_type": "markdown",
   "metadata": {},
   "source": [
    "Note that prior to adding overload signatures, typescript compile does not give us error when whe call: \n",
    "\n",
    "```typescript\n",
    "console.log(add([1,2],3))\n",
    "```\n",
    "After adding overload signatures, calling the above will result in typescript complaining: \"Argument of type 'number[]' is not assignable to parameter of type 'number'.\""
   ]
  }
 ],
 "metadata": {
  "kernelspec": {
   "display_name": "TypeScript",
   "language": "typescript",
   "name": "tslab"
  },
  "language_info": {
   "codemirror_mode": {
    "mode": "typescript",
    "name": "javascript",
    "typescript": true
   },
   "file_extension": ".ts",
   "mimetype": "text/typescript",
   "name": "typescript",
   "version": "3.7.2"
  },
  "orig_nbformat": 4
 },
 "nbformat": 4,
 "nbformat_minor": 2
}
