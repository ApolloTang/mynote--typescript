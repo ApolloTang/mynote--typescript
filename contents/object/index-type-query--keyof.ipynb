{
 "cells": [
  {
   "cell_type": "markdown",
   "metadata": {},
   "source": []
  },
  {
   "attachments": {},
   "cell_type": "markdown",
   "metadata": {},
   "source": [
    "# Index Type Query (keyof)\n",
    "\n",
    "Ref: [TypeScript 2.1 release note](https://www.typescriptlang.org/docs/handbook/release-notes/typescript-2-1.html#keyof-and-lookup-types)\n",
    "\n",
    "Given an object interface `T`, `keyof T` give you the union of property names for `T`. For example: "
   ]
  },
  {
   "cell_type": "code",
   "execution_count": 2,
   "metadata": {},
   "outputs": [],
   "source": [
    "import type {IsEqual} from 'type-fest'\n",
    "{\n",
    "    interface T {\n",
    "        'name': string;\n",
    "        'age' : number;\n",
    "        'location' : string;\n",
    "    } \n",
    "\n",
    "    const assertion1:IsEqual<keyof T, 'name' | 'age' | 'location'> = true \n",
    "}"
   ]
  },
  {
   "attachments": {},
   "cell_type": "markdown",
   "metadata": {},
   "source": [
    "As an intersting excercise, apply `keyof` to an `Array` type will give you and unikon of all method name for an `Array` and `number`:"
   ]
  },
  {
   "cell_type": "code",
   "execution_count": 3,
   "metadata": {},
   "outputs": [],
   "source": [
    "import type {IsEqual} from 'type-fest'\n",
    "{\n",
    "    type KeyExistInX<key, X> = key extends X ? true : false;\n",
    "\n",
    "    type keysOfArray = keyof []; // \"length\" | \"push\" | \"pop\" | \"concat\" | ... | 0, 1, 2, ...\n",
    "    const assertion1:IsEqual< KeyExistInX<'length', keysOfArray>, true> = true\n",
    "    const assertion2:IsEqual< KeyExistInX<'push', keysOfArray>, true> = true\n",
    "    const assertion3:IsEqual< KeyExistInX<'pop', keysOfArray>, true> = true\n",
    "    const assertion4:IsEqual< KeyExistInX<'concat', keysOfArray>, true> = true\n",
    "    const assertion5:IsEqual< KeyExistInX<0, keysOfArray>, true> = true\n",
    "    const assertion6:IsEqual< KeyExistInX<1, keysOfArray>, true> = true\n",
    "    const assertion7:IsEqual< KeyExistInX<2, keysOfArray>, true> = true\n",
    "}"
   ]
  }
 ],
 "metadata": {
  "kernelspec": {
   "display_name": "TypeScript",
   "language": "typescript",
   "name": "tslab"
  },
  "language_info": {
   "codemirror_mode": {
    "mode": "typescript",
    "name": "javascript",
    "typescript": true
   },
   "file_extension": ".ts",
   "mimetype": "text/typescript",
   "name": "typescript",
   "version": "3.7.2"
  },
  "orig_nbformat": 4,
  "vscode": {
   "interpreter": {
    "hash": "986eca7a019ec1cecdf8acba9385fd81abe83826aebd0c1ee63f24fc495f5a65"
   }
  }
 },
 "nbformat": 4,
 "nbformat_minor": 2
}
