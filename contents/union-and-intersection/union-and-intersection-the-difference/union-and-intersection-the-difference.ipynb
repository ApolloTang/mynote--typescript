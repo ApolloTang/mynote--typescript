{
 "cells": [
  {
   "cell_type": "markdown",
   "metadata": {},
   "source": []
  },
  {
   "cell_type": "markdown",
   "metadata": {},
   "source": [
    "# Union and Intersection the differences\n",
    "\n",
    "This note attempt to illustrate the diffrences between Union and Intersection \n",
    "\n",
    "References: \n",
    "\n",
    "[https://www.typescriptlang.org/docs/handbook/2/objects.html#intersection-types](https://www.typescriptlang.org/docs/handbook/2/objects.html#intersection-types)\n",
    "\n",
    "[https://blog.logrocket.com/understanding-discriminated-union-intersection-types-typescript](https://blog.logrocket.com/understanding-discriminated-union-intersection-types-typescript)\n"
   ]
  },
  {
   "cell_type": "markdown",
   "metadata": {},
   "source": [
    "Consider the following two interfaces Bird and Fish, lets investigate their result type after we take the union and intersection. \n",
    "\n",
    "Note that Bird and Fish has a common memeber `common()`."
   ]
  },
  {
   "cell_type": "code",
   "execution_count": 1,
   "metadata": {},
   "outputs": [],
   "source": [
    "interface Bird {\n",
    "  common(): void;\n",
    "  fly():void;\n",
    "}\n",
    "\n",
    "interface Fish {\n",
    "  common(): void;\n",
    "  swim():void;\n",
    "}"
   ]
  },
  {
   "cell_type": "markdown",
   "metadata": {},
   "source": [
    "## Union of type\n",
    "\n",
    "The result of a Union can have value that be any of the types being unioned. \n",
    "\n",
    "In the following, the type UnionBirdFish can have value **either** `Bird` **OR** `Fish`:"
   ]
  },
  {
   "cell_type": "code",
   "execution_count": null,
   "metadata": {},
   "outputs": [],
   "source": [
    "type UnionBirdFish = Bird | Fish"
   ]
  },
  {
   "cell_type": "markdown",
   "metadata": {},
   "source": [
    "To illustrate lets create an object called `birdOrFish` as a union type of Bird and Fish defined above. We then implimented the members `fly()`, `swim()`, and `common()`.  "
   ]
  },
  {
   "cell_type": "code",
   "execution_count": null,
   "metadata": {},
   "outputs": [],
   "source": [
    "const birdOrFish: UnionBirdFish = {\n",
    "  common: ()=>{},\n",
    "  fly: ()=>{},\n",
    "  swim: ()=>{}\n",
    "}"
   ]
  },
  {
   "cell_type": "markdown",
   "metadata": {},
   "source": [
    "During the usage, we will discover that only common properties of union are available:"
   ]
  },
  {
   "cell_type": "code",
   "execution_count": null,
   "metadata": {},
   "outputs": [],
   "source": [
    "birdOrFish.common();  // <-- only common property are available in a union of type\n",
    "\n",
    "birdOrFish.fly();  // Property 'fly' does not exist on type 'Union'.\n",
    "birdOrFish.swim(); // Property 'swim' does not exist on type 'Union'"
   ]
  },
  {
   "cell_type": "markdown",
   "metadata": {},
   "source": [
    "That is because the variable `birdOrFish` can hold value of either `Fish` or `Bird`, we can not be certain it as exectly a `Fish` **OR** `Bird`. Given this uncertainty, we can not guarentee that their repective member is available to call. \n",
    "\n",
    "For example, lets say if the value of vareable `birdOrFish` is assigned a value of type `Fish`, than `fly()` method will not be available to call. \n",
    "\n",
    "In situation like this we can do a check with the `in` operator to make sure that the method `fly()` is available for us to call. \n",
    "\n",
    "This technique is called **type guards**:"
   ]
  },
  {
   "cell_type": "code",
   "execution_count": null,
   "metadata": {},
   "outputs": [],
   "source": [
    "if ('fly' in birdOrFish) {\n",
    "  birdOrFish.fly()\n",
    "}\n",
    "\n",
    "if ('swim' in birdOrFish) {\n",
    "  birdOrFish.swim()\n",
    "}"
   ]
  },
  {
   "cell_type": "markdown",
   "metadata": {},
   "source": [
    "## Intersection of type\n",
    "\n",
    "Intersection type is a type that combines several types into one. In the following, `Bird` type **AND** `Fish` type combines to form an intersection:"
   ]
  },
  {
   "cell_type": "code",
   "execution_count": null,
   "metadata": {},
   "outputs": [],
   "source": [
    "type Intersection = Bird & Fish"
   ]
  },
  {
   "cell_type": "markdown",
   "metadata": {},
   "source": [
    "Generally, the result of *Intersection* is a new type that has all the members of the types that combined:"
   ]
  },
  {
   "cell_type": "code",
   "execution_count": null,
   "metadata": {},
   "outputs": [],
   "source": [
    "\n",
    "const intersec: Intersection = {\n",
    "  common: ()=>{},\n",
    "  fly: ()=>{},\n",
    "  swim: ()=>{}\n",
    "}\n",
    "\n",
    "// All properties are available in an intersection of type\n",
    "intersec.common();\n",
    "intersec.fly();\n",
    "intersec.swim();"
   ]
  }
 ],
 "metadata": {
  "kernelspec": {
   "display_name": "TypeScript",
   "language": "typescript",
   "name": "tslab"
  },
  "language_info": {
   "codemirror_mode": {
    "mode": "typescript",
    "name": "javascript",
    "typescript": true
   },
   "file_extension": ".ts",
   "mimetype": "text/typescript",
   "name": "typescript",
   "version": "3.7.2"
  },
  "orig_nbformat": 4
 },
 "nbformat": 4,
 "nbformat_minor": 2
}
