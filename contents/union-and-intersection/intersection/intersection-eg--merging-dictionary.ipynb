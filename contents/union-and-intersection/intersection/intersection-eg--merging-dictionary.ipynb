{
 "cells": [
  {
   "cell_type": "markdown",
   "metadata": {},
   "source": []
  },
  {
   "cell_type": "markdown",
   "metadata": {},
   "source": [
    "# Intersection example: Shallow merging dictionaries \n",
    "\n",
    "When we merge two dictionaries by spreading it into a new object, the resultant object will have a type that is an intersection of the two dictionaries:  "
   ]
  },
  {
   "cell_type": "code",
   "execution_count": null,
   "metadata": {},
   "outputs": [],
   "source": [
    "(()=>{\n",
    "    function extend<T, U>(first: T, second: U) {\n",
    "        const result = { ...first, ...second } // type of result is T & U\n",
    "        return result \n",
    "    }\n",
    "    \n",
    "    const x = extend({ a: \"hello\" }, { b: 42 });\n",
    "    console.log(x);\n",
    "})()"
   ]
  },
  {
   "cell_type": "markdown",
   "metadata": {},
   "source": [
    "The following example have the same result but achieved using iteration, but I couldn't figure out how to fix the type errors:"
   ]
  },
  {
   "cell_type": "code",
   "execution_count": null,
   "metadata": {},
   "outputs": [],
   "source": [
    "(()=>{\n",
    "    function extend<T, U>(first: T, second: U) {\n",
    "        const result = {} as T & U\n",
    "        for (let id in first) {\n",
    "            result[id] = first[id];\n",
    "            // Type 'T[Extract<keyof T, string>]' is not assignable to type '(T & U)[Extract<keyof T, string>]'.\n",
    "        }\n",
    "        for (let id in second) {\n",
    "            result[id] = second[id];\n",
    "            // Type 'U[Extract<keyof U, string>]' is not assignable to type '(T & U)[Extract<keyof U, string>]'.\n",
    "        }\n",
    "        return result \n",
    "    }\n",
    "\n",
    "    const x = extend({ a: \"hello\" }, { b: 42 });\n",
    "    console.log(x);\n",
    "})()"
   ]
  },
  {
   "cell_type": "markdown",
   "metadata": {},
   "source": [
    "The above is inspired by the example in [https://github.com/microsoft/TypeScript/pull/3622](https://github.com/microsoft/TypeScript/pull/3622), which is also contain similar type errors:"
   ]
  },
  {
   "cell_type": "code",
   "execution_count": null,
   "metadata": {},
   "outputs": [],
   "source": [
    ";(()=>{\n",
    "    function extend<T, U>(first: T, second: U): T & U {\n",
    "        let result = <T & U> {};\n",
    "        for (let id in first) {\n",
    "            result[id] = first[id];\n",
    "        }\n",
    "        for (let id in second) {\n",
    "            if (!result.hasOwnProperty(id)) {\n",
    "                result[id] = second[id];\n",
    "            }\n",
    "        }\n",
    "        return result;\n",
    "    }\n",
    "    \n",
    "    var x = extend({ a: \"hello\" }, { b: 42 });\n",
    "    var s = x.a;\n",
    "    var n = x.b;\n",
    "})()"
   ]
  }
 ],
 "metadata": {
  "kernelspec": {
   "display_name": "TypeScript",
   "language": "typescript",
   "name": "tslab"
  },
  "language_info": {
   "codemirror_mode": {
    "mode": "typescript",
    "name": "javascript",
    "typescript": true
   },
   "file_extension": ".ts",
   "mimetype": "text/typescript",
   "name": "typescript",
   "version": "3.7.2"
  },
  "orig_nbformat": 4
 },
 "nbformat": 4,
 "nbformat_minor": 2
}
