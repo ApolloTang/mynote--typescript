{
 "cells": [
  {
   "cell_type": "markdown",
   "metadata": {},
   "source": [
    "## Intersection: Properties and Index Signatures\n",
    "\n",
    "From [https://github.com/microsoft/TypeScript/pull/3622](https://github.com/microsoft/TypeScript/pull/3622)\n",
    "1. The type `A&B` has a property `P` if `A` has a property `P` or `B` has a property `P`. \n",
    "2. If `A` has a property `P` of type `X` and `B` has a property `P` of type `Y`, then `A&B` has a property `P` of type `X&Y`.\n",
    "3. Index signatures are similarly intersected."
   ]
  },
  {
   "cell_type": "markdown",
   "metadata": {},
   "source": [
    "### What does point 1 and point 2 above means? \n",
    "\n",
    "Given two type, `A` and `B`, if both of them have a property of same name (say `P`), then the intersction of `A` and `B` (`A&B`) will have this property `P`.\n",
    "\n",
    "Furthermore, if `A.P` is of type `X`, and `B.P` is of type `Y`, (meaning, `P` in `A` and `P` in `B` same name but different type) than the result type of `(A&B).P` is `A.P&B.P`. "
   ]
  },
  {
   "cell_type": "code",
   "execution_count": 2,
   "metadata": {},
   "outputs": [],
   "source": [
    "(()=>{\n",
    "    type X = string\n",
    "    type Y = number \n",
    "    type XandY = X & Y  // string & number ==> never\n",
    "\n",
    "    // Both A and B has a property called P with same name but they differ in type\n",
    "    type A = { P: X }\n",
    "    type B = { P: Y }\n",
    "\n",
    "    type A_PandB_P = A[\"P\"] & B[\"P\"] // this is type \"never\" because \"string & number\" ==> \"never\"\n",
    "\n",
    "    type AandB = A & B\n",
    "    type AandB_P = AandB[\"P\"]  // this is type \"never\" because \"string & number\" ==> \"never\"     \n",
    "})();"
   ]
  },
  {
   "cell_type": "markdown",
   "metadata": {},
   "source": [
    "In the above: \n",
    "`(X&Y)`, \n",
    "`(A.P & B.P)`, and \n",
    "`(A&B).P` \n",
    "all are of the same type."
   ]
  }
 ],
 "metadata": {
  "kernelspec": {
   "display_name": "TypeScript",
   "language": "typescript",
   "name": "tslab"
  },
  "language_info": {
   "codemirror_mode": {
    "mode": "typescript",
    "name": "javascript",
    "typescript": true
   },
   "file_extension": ".ts",
   "mimetype": "text/typescript",
   "name": "typescript",
   "version": "3.7.2"
  }
 },
 "nbformat": 4,
 "nbformat_minor": 2
}
