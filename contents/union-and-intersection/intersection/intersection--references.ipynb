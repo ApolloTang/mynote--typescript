{
 "cells": [
  {
   "cell_type": "markdown",
   "metadata": {},
   "source": [
    "# Intersection References\n",
    "\n",
    "- [Intersection types #3622](https://github.com/microsoft/TypeScript/pull/3622)\n",
    "- [Bytefer -- Using TypeScript Intersection Types Like a Pro](https://medium.com/javascript-in-plain-english/using-typescript-intersection-types-like-a-pro-a55da6a6a5f7)"
   ]
  }
 ],
 "metadata": {
  "kernelspec": {
   "display_name": "Python 3.10.8 ('.venv': pipenv)",
   "language": "python",
   "name": "python3"
  },
  "language_info": {
   "name": "python",
   "version": "3.10.8"
  },
  "orig_nbformat": 4,
  "vscode": {
   "interpreter": {
    "hash": "839ab68eaca41ae32cb4eeba237fcdc4efc5915b41c08479a6974acc8167eaeb"
   }
  }
 },
 "nbformat": 4,
 "nbformat_minor": 2
}
