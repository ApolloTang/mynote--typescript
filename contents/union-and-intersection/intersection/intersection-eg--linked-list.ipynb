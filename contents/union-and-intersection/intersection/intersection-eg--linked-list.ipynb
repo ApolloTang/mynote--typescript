{
 "cells": [
  {
   "cell_type": "markdown",
   "metadata": {},
   "source": []
  },
  {
   "cell_type": "markdown",
   "metadata": {},
   "source": [
    "# Intersection example: linked list \n",
    "\n",
    "This example is from:\n",
    "[https://github.com/microsoft/TypeScript/pull/3622](https://github.com/microsoft/TypeScript/pull/3622)\n",
    "\n",
    "The original example has error. This is a fix."
   ]
  },
  {
   "cell_type": "code",
   "execution_count": 1,
   "metadata": {},
   "outputs": [],
   "source": [
    "type LinkedList<T> = T & { next: LinkedList<T> | null };\n",
    "\n",
    "interface Person {\n",
    "  name: string;\n",
    "}\n",
    "\n",
    "const people1: LinkedList<Person> = {\n",
    "  name : 'foo',\n",
    "  next : {\n",
    "    name: 'bar',\n",
    "    next: null\n",
    "  }\n",
    "\n",
    "};\n",
    "\n",
    "const people2: LinkedList<Person> = {\n",
    "  name : 'foo',\n",
    "  next : {\n",
    "    name: 'bar',\n",
    "    next: people1\n",
    "  }\n",
    "\n",
    "};\n",
    "\n",
    "const s1 = people2.name;\n",
    "const s2 = people2.next?.name;\n",
    "const s3 = people2.next?.next?.name;"
   ]
  }
 ],
 "metadata": {
  "kernelspec": {
   "display_name": "TypeScript",
   "language": "typescript",
   "name": "tslab"
  },
  "language_info": {
   "codemirror_mode": {
    "mode": "typescript",
    "name": "javascript",
    "typescript": true
   },
   "file_extension": ".ts",
   "mimetype": "text/typescript",
   "name": "typescript",
   "version": "3.7.2"
  },
  "orig_nbformat": 4
 },
 "nbformat": 4,
 "nbformat_minor": 2
}
