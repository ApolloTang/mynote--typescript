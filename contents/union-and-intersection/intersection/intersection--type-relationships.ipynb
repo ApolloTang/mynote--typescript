{
 "cells": [
  {
   "cell_type": "markdown",
   "metadata": {},
   "source": [
    "# Type Relationships\n",
    "\n",
    "From: [https://github.com/microsoft/TypeScript/pull/3622](https://github.com/microsoft/TypeScript/pull/3622)\n",
    "- **Identity**: `A & A` is equivalent to `A`.\n",
    "- **Commutativity**: `A & B` is equivalent to `B & A` (except for call and construct signatures as noted below).\n",
    "- **Associativity**: `(A & B) & C` is equivalent to `A & (B & C)`.\n",
    "- **Supertype collapsing**: `A & B` is equivalent to `A` if `B` is a supertype of `A`."
   ]
  }
 ],
 "metadata": {
  "kernelspec": {
   "display_name": "TypeScript",
   "language": "typescript",
   "name": "tslab"
  },
  "language_info": {
   "name": "typescript"
  },
  "orig_nbformat": 4
 },
 "nbformat": 4,
 "nbformat_minor": 2
}
